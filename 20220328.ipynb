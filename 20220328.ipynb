{
  "cells": [
    {
      "cell_type": "markdown",
      "metadata": {
        "id": "view-in-github",
        "colab_type": "text"
      },
      "source": [
        "<a href=\"https://colab.research.google.com/github/Junseoo/class2022Spring/blob/main/20220328.ipynb\" target=\"_parent\"><img src=\"https://colab.research.google.com/assets/colab-badge.svg\" alt=\"Open In Colab\"/></a>"
      ]
    },
    {
      "cell_type": "code",
      "execution_count": null,
      "metadata": {
        "id": "8eZHGJhmqd9a"
      },
      "outputs": [],
      "source": [
        "!pip install gradio\n",
        "import gradio as gr\n",
        "import requests\n",
        "import pandas as pd"
      ]
    },
    {
      "cell_type": "code",
      "source": [
        "URL = ('http://apis.data.go.kr/B552061/jaywalking/getRestJaywalking'\n",
        "       '?ServiceKey=7J%2B62liMyIJjNA4nuO3QvMObUeQGKHMIk867r9R5fesD91XEjC%2BRl%2BKTIVE7sLxvU6qqWnb3e6n97QomKL%2BFPA%3D%3D'\n",
        "       '&searchYearCd=2017'\n",
        "       '&siDo=11'\n",
        "       '&guGun=680'\n",
        "       '&type=json'\n",
        "       '&numOfRows=10'\n",
        "       '&pageNo=1')\n",
        "response = requests.get(URL)\n",
        "response"
      ],
      "metadata": {
        "colab": {
          "base_uri": "https://localhost:8080/"
        },
        "id": "Kw9AQlAZR0YS",
        "outputId": "79aef895-e73c-4bdb-d43a-9127c580366b"
      },
      "execution_count": 2,
      "outputs": [
        {
          "output_type": "execute_result",
          "data": {
            "text/plain": [
              "<Response [200]>"
            ]
          },
          "metadata": {},
          "execution_count": 2
        }
      ]
    },
    {
      "cell_type": "code",
      "source": [
        "response.text"
      ],
      "metadata": {
        "colab": {
          "base_uri": "https://localhost:8080/",
          "height": 148
        },
        "id": "tdkEwTZlUqXR",
        "outputId": "1911b901-1896-4393-af6f-b1f206c82175"
      },
      "execution_count": 3,
      "outputs": [
        {
          "output_type": "execute_result",
          "data": {
            "text/plain": [
              "'{\"resultCode\":\"00\",\"resultMsg\":\"NORMAL_CODE\",\"items\":{\"item\":[{\"afos_fid\":6430722,\"afos_id\":\"2018045\",\"bjd_cd\":\"1168010800\",\"spot_cd\":\"112211001\",\"sido_sgg_nm\":\"서울 서울강남1\",\"spot_nm\":\"서울특별시 강남구 논현동(신논현역 부근)\",\"occrrnc_cnt\":10,\"caslt_cnt\":11,\"dth_dnv_cnt\":1,\"se_dnv_cnt\":4,\"sl_dnv_cnt\":6,\"wnd_dnv_cnt\":0,\"geom_json\":\"{\\\\\"type\\\\\":\\\\\"Polygon\\\\\",\\\\\"coordinates\\\\\":[[[127.02518392,37.50419679],[127.02513214,37.5037797],[127.02497878,37.50337864],[127.02472974,37.50300901],[127.02439459,37.50268503],[127.02398621,37.50241915],[127.02352029,37.50222158],[127.02301474,37.50209991],[127.02248898,37.50205883],[127.02196322,37.50209991],[127.02145767,37.50222158],[127.02099175,37.50241915],[127.02058336,37.50268503],[127.02024821,37.50300901],[127.01999917,37.50337864],[127.01984582,37.5037797],[127.01979403,37.50419679],[127.01984582,37.50461387],[127.01999917,37.50501493],[127.02024821,37.50538455],[127.02058336,37.50570851],[127.02099175,37.50597439],[127.02145767,37.50617195],[127.02196322,37.5062936],[127.02248898,37.50633468],[127.02301474,37.5062936],[127.02352029,37.50617195],[127.02398621,37.50597439],[127.02439459,37.50570851],[127.02472974,37.50538455],[127.02497878,37.50501493],[127.02513214,37.50461387],[127.02518392,37.50419679]]]}\",\"lo_crd\":\"127.022488978485\",\"la_crd\":\"37.504196787752\"},{\"afos_fid\":6429450,\"afos_id\":\"2018045\",\"bjd_cd\":\"1168010100\",\"spot_cd\":\"112211002\",\"sido_sgg_nm\":\"서울 서울강남2\",\"spot_nm\":\"서울특별시 강남구 역삼동(현대해상강남타워 부근)\",\"occrrnc_cnt\":7,\"caslt_cnt\":9,\"dth_dnv_cnt\":1,\"se_dnv_cnt\":5,\"sl_dnv_cnt\":2,\"wnd_dnv_cnt\":1,\"geom_json\":\"{\\\\\"type\\\\\":\\\\\"Polygon\\\\\",\\\\\"coordinates\\\\\":[[[127.0368177,37.50007897],[127.03676591,37.49966185],[127.03661255,37.49926077],[127.03636352,37.49889112],[127.03602836,37.49856713],[127.03561998,37.49830123],[127.03515406,37.49810365],[127.03464851,37.49798198],[127.03412275,37.49794089],[127.03359699,37.49798198],[127.03309144,37.49810365],[127.03262552,37.49830123],[127.03221714,37.49856713],[127.03188198,37.49889112],[127.03163294,37.49926077],[127.03147959,37.49966185],[127.0314278,37.50007897],[127.03147959,37.50049608],[127.03163294,37.50089716],[127.03188198,37.50126679],[127.03221714,37.50159078],[127.03262552,37.50185666],[127.03309144,37.50205423],[127.03359699,37.5021759],[127.03412275,37.50221698],[127.03464851,37.5021759],[127.03515406,37.50205423],[127.03561998,37.50185666],[127.03602836,37.50159078],[127.03636352,37.50126679],[127.03661255,37.50089716],[127.03676591,37.50049608],[127.0368177,37.50007897]]]}\",\"lo_crd\":\"127.034122749666\",\"la_crd\":\"37.500078966572\"},{\"afos_fid\":6430399,\"afos_id\":\"2018045\",\"bjd_cd\":\"1168010800\",\"spot_cd\":\"112211003\",\"sido_sgg_nm\":\"서울 서울강남3\",\"spot_nm\":\"서울특별시 강남구 논현동(사진박물관 부근)\",\"occrrnc_cnt\":5,\"caslt_cnt\":6,\"dth_dnv_cnt\":0,\"se_dnv_cnt\":3,\"sl_dnv_cnt\":3,\"wnd_dnv_cnt\":0,\"geom_json\":\"{\\\\\"type\\\\\":\\\\\"Polygon\\\\\",\\\\\"coordinates\\\\\":[[[127.02732594,37.5183978],[127.02727415,37.51798079],[127.0271208,37.5175798],[127.02687176,37.51721025],[127.02653661,37.51688633],[127.02612822,37.5166205],[127.0256623,37.51642296],[127.02515675,37.51630132],[127.02463099,37.51626025],[127.02410523,37.51630132],[127.02359968,37.51642296],[127.02313376,37.5166205],[127.02272538,37.51688633],[127.02239023,37.51721025],[127.02214119,37.5175798],[127.02198783,37.51798079],[127.02193605,37.5183978],[127.02198783,37.51881481],[127.02214119,37.51921579],[127.02239023,37.51958533],[127.02272538,37.51990924],[127.02313376,37.52017506],[127.02359968,37.52037258],[127.02410523,37.52049421],[127.02463099,37.52053529],[127.02515675,37.52049421],[127.0256623,37.52037258],[127.02612822,37.52017506],[127.02653661,37.51990924],[127.02687176,37.51958533],[127.0271208,37.51921579],[127.02727415,37.51881481],[127.02732594,37.5183978]]]}\",\"lo_crd\":\"127.024630990929\",\"la_crd\":\"37.51839779872\"},{\"afos_fid\":6430422,\"afos_id\":\"2018045\",\"bjd_cd\":\"1168010600\",\"spot_cd\":\"113411001\",\"sido_sgg_nm\":\"서울 서울수서1\",\"spot_nm\":\"서울특별시 강남구 대치동(은마아파트입구교차로 부근)\",\"occrrnc_cnt\":4,\"caslt_cnt\":4,\"dth_dnv_cnt\":0,\"se_dnv_cnt\":2,\"sl_dnv_cnt\":2,\"wnd_dnv_cnt\":0,\"geom_json\":\"{\\\\\"type\\\\\":\\\\\"Polygon\\\\\",\\\\\"coordinates\\\\\":[[[127.06242437,37.5012498],[127.06237259,37.50083269],[127.06221923,37.50043161],[127.06197019,37.50006197],[127.06163504,37.49973798],[127.06122666,37.49947209],[127.06076074,37.49927451],[127.06025519,37.49915284],[127.05972943,37.49911176],[127.05920367,37.49915284],[127.05869812,37.49927451],[127.0582322,37.49947209],[127.05782381,37.49973798],[127.05748866,37.50006197],[127.05723962,37.50043161],[127.05708626,37.50083269],[127.05703448,37.5012498],[127.05708626,37.5016669],[127.05723962,37.50206797],[127.05748866,37.5024376],[127.05782381,37.50276158],[127.0582322,37.50302746],[127.05869812,37.50322503],[127.05920367,37.50334669],[127.05972943,37.50338777],[127.06025519,37.50334669],[127.06076074,37.50322503],[127.06122666,37.50302746],[127.06163504,37.50276158],[127.06197019,37.5024376],[127.06221923,37.50206797],[127.06237259,37.5016669],[127.06242437,37.5012498]]]}\",\"lo_crd\":\"127.059729427772\",\"la_crd\":\"37.501249795742\"},{\"afos_fid\":6429783,\"afos_id\":\"2018045\",\"bjd_cd\":\"1168010600\",\"spot_cd\":\"113411002\",\"sido_sgg_nm\":\"서울 서울수서2\",\"spot_nm\":\"서울특별시 강남구 대치동(한나라한의원 부근)\",\"occrrnc_cnt\":4,\"caslt_cnt\":4,\"dth_dnv_cnt\":0,\"se_dnv_cnt\":2,\"sl_dnv_cnt\":2,\"wnd_dnv_cnt\":0,\"geom_json\":\"{\\\\\"type\\\\\":\\\\\"Polygon\\\\\",\\\\\"coordinates\\\\\":[[[127.05574583,37.50583564],[127.05569404,37.50541856],[127.05554069,37.5050175],[127.05529165,37.50464789],[127.0549565,37.50432391],[127.05454811,37.50405804],[127.05408219,37.50386047],[127.05357664,37.50373881],[127.05305088,37.50369773],[127.05252512,37.50373881],[127.05201957,37.50386047],[127.05155365,37.50405804],[127.05114527,37.50432391],[127.05081012,37.50464789],[127.05056108,37.5050175],[127.05040772,37.50541856],[127.05035593,37.50583564],[127.05040772,37.50625271],[127.05056108,37.50665376],[127.05081012,37.50702337],[127.05114527,37.50734733],[127.05155365,37.5076132],[127.05201957,37.50781075],[127.05252512,37.50793241],[127.05305088,37.50797348],[127.05357664,37.50793241],[127.05408219,37.50781075],[127.05454811,37.5076132],[127.0549565,37.50734733],[127.05529165,37.50702337],[127.05554069,37.50665376],[127.05569404,37.50625271],[127.05574583,37.50583564]]]}\",\"lo_crd\":\"127.053050880595\",\"la_crd\":\"37.505835636706\"}]},\"totalCount\":5,\"numOfRows\":5,\"pageNo\":1}'"
            ],
            "application/vnd.google.colaboratory.intrinsic+json": {
              "type": "string"
            }
          },
          "metadata": {},
          "execution_count": 3
        }
      ]
    },
    {
      "cell_type": "markdown",
      "metadata": {
        "id": "faIENRyFfnY1"
      },
      "source": [
        "#### http://jsonviewer.stack.hu/ (copy json here to view json)"
      ]
    },
    {
      "cell_type": "code",
      "execution_count": null,
      "metadata": {
        "id": "JcLKwg0foR9p"
      },
      "outputs": [],
      "source": [
        "r = response.json()\n",
        "r"
      ]
    },
    {
      "cell_type": "code",
      "source": [
        "items = r['items']['item']"
      ],
      "metadata": {
        "id": "MA6xFmtkstjZ"
      },
      "execution_count": 5,
      "outputs": []
    },
    {
      "cell_type": "code",
      "execution_count": 25,
      "metadata": {
        "id": "W8lA0-IzE55W"
      },
      "outputs": [],
      "source": [
        "items = r['items']['item']\n",
        "\n",
        "sido_sgg_nmt = [item['sido_sgg_nm'] for item in items]\n",
        "spot_nm = [item['spot_nm'] for item in items]\n",
        "occrrnc_cnt = [item['occrrnc_cnt'] for item in items]\n",
        "caslt_cnt = [item['caslt_cnt'] for item in items]\n",
        "dth_dnv_cnt = [item['dth_dnv_cnt'] for item in items]\n",
        "\n",
        "sido_sgg_nmt = pd.Series(sido_sgg_nmt)\n",
        "spot_nm = pd.Series(spot_nm)\n",
        "occrrnc_cnt = pd.Series(occrrnc_cnt) \n",
        "caslt_cnt = pd.Series(caslt_cnt)   \n",
        "dth_dnv_cnt = pd.Series(dth_dnv_cnt)\n",
        "\n",
        "df = pd.DataFrame({'지역명': sido_sgg_nmt, '지점명': spot_nm, '발생건수': occrrnc_cnt, '사상자수': caslt_cnt, '사망자수': dth_dnv_cnt})"
      ]
    },
    {
      "cell_type": "code",
      "source": [
        "df"
      ],
      "metadata": {
        "colab": {
          "base_uri": "https://localhost:8080/",
          "height": 206
        },
        "id": "iF37cMZUvfmw",
        "outputId": "6ec1f519-3f0d-4c09-f51e-3db00edf24c1"
      },
      "execution_count": 26,
      "outputs": [
        {
          "output_type": "execute_result",
          "data": {
            "text/plain": [
              "        지역명                           지점명  발생건수  사상자수  사망자수\n",
              "0  서울 서울강남1        서울특별시 강남구 논현동(신논현역 부근)    10    11     1\n",
              "1  서울 서울강남2    서울특별시 강남구 역삼동(현대해상강남타워 부근)     7     9     1\n",
              "2  서울 서울강남3       서울특별시 강남구 논현동(사진박물관 부근)     5     6     0\n",
              "3  서울 서울수서1  서울특별시 강남구 대치동(은마아파트입구교차로 부근)     4     4     0\n",
              "4  서울 서울수서2      서울특별시 강남구 대치동(한나라한의원 부근)     4     4     0"
            ],
            "text/html": [
              "\n",
              "  <div id=\"df-b70d3563-452b-4da3-9010-24316034e3b8\">\n",
              "    <div class=\"colab-df-container\">\n",
              "      <div>\n",
              "<style scoped>\n",
              "    .dataframe tbody tr th:only-of-type {\n",
              "        vertical-align: middle;\n",
              "    }\n",
              "\n",
              "    .dataframe tbody tr th {\n",
              "        vertical-align: top;\n",
              "    }\n",
              "\n",
              "    .dataframe thead th {\n",
              "        text-align: right;\n",
              "    }\n",
              "</style>\n",
              "<table border=\"1\" class=\"dataframe\">\n",
              "  <thead>\n",
              "    <tr style=\"text-align: right;\">\n",
              "      <th></th>\n",
              "      <th>지역명</th>\n",
              "      <th>지점명</th>\n",
              "      <th>발생건수</th>\n",
              "      <th>사상자수</th>\n",
              "      <th>사망자수</th>\n",
              "    </tr>\n",
              "  </thead>\n",
              "  <tbody>\n",
              "    <tr>\n",
              "      <th>0</th>\n",
              "      <td>서울 서울강남1</td>\n",
              "      <td>서울특별시 강남구 논현동(신논현역 부근)</td>\n",
              "      <td>10</td>\n",
              "      <td>11</td>\n",
              "      <td>1</td>\n",
              "    </tr>\n",
              "    <tr>\n",
              "      <th>1</th>\n",
              "      <td>서울 서울강남2</td>\n",
              "      <td>서울특별시 강남구 역삼동(현대해상강남타워 부근)</td>\n",
              "      <td>7</td>\n",
              "      <td>9</td>\n",
              "      <td>1</td>\n",
              "    </tr>\n",
              "    <tr>\n",
              "      <th>2</th>\n",
              "      <td>서울 서울강남3</td>\n",
              "      <td>서울특별시 강남구 논현동(사진박물관 부근)</td>\n",
              "      <td>5</td>\n",
              "      <td>6</td>\n",
              "      <td>0</td>\n",
              "    </tr>\n",
              "    <tr>\n",
              "      <th>3</th>\n",
              "      <td>서울 서울수서1</td>\n",
              "      <td>서울특별시 강남구 대치동(은마아파트입구교차로 부근)</td>\n",
              "      <td>4</td>\n",
              "      <td>4</td>\n",
              "      <td>0</td>\n",
              "    </tr>\n",
              "    <tr>\n",
              "      <th>4</th>\n",
              "      <td>서울 서울수서2</td>\n",
              "      <td>서울특별시 강남구 대치동(한나라한의원 부근)</td>\n",
              "      <td>4</td>\n",
              "      <td>4</td>\n",
              "      <td>0</td>\n",
              "    </tr>\n",
              "  </tbody>\n",
              "</table>\n",
              "</div>\n",
              "      <button class=\"colab-df-convert\" onclick=\"convertToInteractive('df-b70d3563-452b-4da3-9010-24316034e3b8')\"\n",
              "              title=\"Convert this dataframe to an interactive table.\"\n",
              "              style=\"display:none;\">\n",
              "        \n",
              "  <svg xmlns=\"http://www.w3.org/2000/svg\" height=\"24px\"viewBox=\"0 0 24 24\"\n",
              "       width=\"24px\">\n",
              "    <path d=\"M0 0h24v24H0V0z\" fill=\"none\"/>\n",
              "    <path d=\"M18.56 5.44l.94 2.06.94-2.06 2.06-.94-2.06-.94-.94-2.06-.94 2.06-2.06.94zm-11 1L8.5 8.5l.94-2.06 2.06-.94-2.06-.94L8.5 2.5l-.94 2.06-2.06.94zm10 10l.94 2.06.94-2.06 2.06-.94-2.06-.94-.94-2.06-.94 2.06-2.06.94z\"/><path d=\"M17.41 7.96l-1.37-1.37c-.4-.4-.92-.59-1.43-.59-.52 0-1.04.2-1.43.59L10.3 9.45l-7.72 7.72c-.78.78-.78 2.05 0 2.83L4 21.41c.39.39.9.59 1.41.59.51 0 1.02-.2 1.41-.59l7.78-7.78 2.81-2.81c.8-.78.8-2.07 0-2.86zM5.41 20L4 18.59l7.72-7.72 1.47 1.35L5.41 20z\"/>\n",
              "  </svg>\n",
              "      </button>\n",
              "      \n",
              "  <style>\n",
              "    .colab-df-container {\n",
              "      display:flex;\n",
              "      flex-wrap:wrap;\n",
              "      gap: 12px;\n",
              "    }\n",
              "\n",
              "    .colab-df-convert {\n",
              "      background-color: #E8F0FE;\n",
              "      border: none;\n",
              "      border-radius: 50%;\n",
              "      cursor: pointer;\n",
              "      display: none;\n",
              "      fill: #1967D2;\n",
              "      height: 32px;\n",
              "      padding: 0 0 0 0;\n",
              "      width: 32px;\n",
              "    }\n",
              "\n",
              "    .colab-df-convert:hover {\n",
              "      background-color: #E2EBFA;\n",
              "      box-shadow: 0px 1px 2px rgba(60, 64, 67, 0.3), 0px 1px 3px 1px rgba(60, 64, 67, 0.15);\n",
              "      fill: #174EA6;\n",
              "    }\n",
              "\n",
              "    [theme=dark] .colab-df-convert {\n",
              "      background-color: #3B4455;\n",
              "      fill: #D2E3FC;\n",
              "    }\n",
              "\n",
              "    [theme=dark] .colab-df-convert:hover {\n",
              "      background-color: #434B5C;\n",
              "      box-shadow: 0px 1px 3px 1px rgba(0, 0, 0, 0.15);\n",
              "      filter: drop-shadow(0px 1px 2px rgba(0, 0, 0, 0.3));\n",
              "      fill: #FFFFFF;\n",
              "    }\n",
              "  </style>\n",
              "\n",
              "      <script>\n",
              "        const buttonEl =\n",
              "          document.querySelector('#df-b70d3563-452b-4da3-9010-24316034e3b8 button.colab-df-convert');\n",
              "        buttonEl.style.display =\n",
              "          google.colab.kernel.accessAllowed ? 'block' : 'none';\n",
              "\n",
              "        async function convertToInteractive(key) {\n",
              "          const element = document.querySelector('#df-b70d3563-452b-4da3-9010-24316034e3b8');\n",
              "          const dataTable =\n",
              "            await google.colab.kernel.invokeFunction('convertToInteractive',\n",
              "                                                     [key], {});\n",
              "          if (!dataTable) return;\n",
              "\n",
              "          const docLinkHtml = 'Like what you see? Visit the ' +\n",
              "            '<a target=\"_blank\" href=https://colab.research.google.com/notebooks/data_table.ipynb>data table notebook</a>'\n",
              "            + ' to learn more about interactive tables.';\n",
              "          element.innerHTML = '';\n",
              "          dataTable['output_type'] = 'display_data';\n",
              "          await google.colab.output.renderOutput(dataTable, element);\n",
              "          const docLink = document.createElement('div');\n",
              "          docLink.innerHTML = docLinkHtml;\n",
              "          element.appendChild(docLink);\n",
              "        }\n",
              "      </script>\n",
              "    </div>\n",
              "  </div>\n",
              "  "
            ]
          },
          "metadata": {},
          "execution_count": 26
        }
      ]
    },
    {
      "cell_type": "code",
      "source": [
        "def test(guGun):\n",
        "  URL = ('http://apis.data.go.kr/B552061/jaywalking/getRestJaywalking'\n",
        "         '?ServiceKey=7J%2B62liMyIJjNA4nuO3QvMObUeQGKHMIk867r9R5fesD91XEjC%2BRl%2BKTIVE7sLxvU6qqWnb3e6n97QomKL%2BFPA%3D%3D'\n",
        "         '&searchYearCd=2017'\n",
        "         '&siDo=11'\n",
        "         '&guGun='+guGun+\n",
        "         '&type=json'\n",
        "         '&numOfRows=10'\n",
        "         '&pageNo=1')\n",
        "  \n",
        "  response = requests.get(URL)\n",
        "  r = response.json()\n",
        "  items = r['items']['item']\n",
        "\n",
        "  sido_sgg_nmt = [item['sido_sgg_nm'] for item in items]\n",
        "  spot_nm = [item['spot_nm'] for item in items]\n",
        "  occrrnc_cnt = [item['occrrnc_cnt'] for item in items]\n",
        "  caslt_cnt = [item['caslt_cnt'] for item in items]\n",
        "  dth_dnv_cnt = [item['dth_dnv_cnt'] for item in items]\n",
        "\n",
        "  sido_sgg_nmt = pd.Series(sido_sgg_nmt)\n",
        "  spot_nm = pd.Series(spot_nm)\n",
        "  occrrnc_cnt = pd.Series(occrrnc_cnt) \n",
        "  caslt_cnt = pd.Series(caslt_cnt)   \n",
        "  dth_dnv_cnt = pd.Series(dth_dnv_cnt)\n",
        "  \n",
        "\n",
        "  df = pd.DataFrame({'지역명': sido_sgg_nmt, '지점명': spot_nm, '발생건수': occrrnc_cnt, '사상자수': caslt_cnt, '사망자수': dth_dnv_cnt})\n",
        "  return df"
      ],
      "metadata": {
        "id": "mhfZvPFkw72R"
      },
      "execution_count": 27,
      "outputs": []
    },
    {
      "cell_type": "code",
      "source": [
        "iface = gr.Interface(test, gr.inputs.Dropdown(['680','740','305','500','620','215','530','545','350','320','230','590','440','410','650','200','290','710','470','560','170','380','110','140','260' ]), outputs=['dataframe'])\n",
        "iface.launch(debug=True)"
      ],
      "metadata": {
        "colab": {
          "base_uri": "https://localhost:8080/",
          "height": 669
        },
        "id": "GHRGRt0mw9RR",
        "outputId": "9c9970ad-1f11-4aba-ce59-ad1e41fde2ba"
      },
      "execution_count": 29,
      "outputs": [
        {
          "output_type": "stream",
          "name": "stdout",
          "text": [
            "Colab notebook detected. This cell will run indefinitely so that you can see errors and logs. To turn off, set debug=False in launch().\n",
            "Running on public URL: https://56241.gradio.app\n",
            "\n",
            "This share link expires in 72 hours. For free permanent hosting, check out Spaces (https://huggingface.co/spaces)\n"
          ]
        },
        {
          "output_type": "display_data",
          "data": {
            "text/plain": [
              "<IPython.lib.display.IFrame at 0x7fec4eb99990>"
            ],
            "text/html": [
              "\n",
              "        <iframe\n",
              "            width=\"900\"\n",
              "            height=\"500\"\n",
              "            src=\"https://56241.gradio.app\"\n",
              "            frameborder=\"0\"\n",
              "            allowfullscreen\n",
              "        ></iframe>\n",
              "        "
            ]
          },
          "metadata": {}
        },
        {
          "output_type": "stream",
          "name": "stdout",
          "text": [
            "Keyboard interruption in main thread... closing server.\n"
          ]
        },
        {
          "output_type": "execute_result",
          "data": {
            "text/plain": [
              "(<fastapi.applications.FastAPI at 0x7fec57ffe050>,\n",
              " 'http://127.0.0.1:7860/',\n",
              " 'https://56241.gradio.app')"
            ]
          },
          "metadata": {},
          "execution_count": 29
        }
      ]
    }
  ],
  "metadata": {
    "colab": {
      "name": "20220328.ipynb",
      "provenance": [],
      "include_colab_link": true
    },
    "kernelspec": {
      "display_name": "Python 3",
      "name": "python3"
    },
    "language_info": {
      "name": "python"
    }
  },
  "nbformat": 4,
  "nbformat_minor": 0
}
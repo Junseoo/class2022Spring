{
  "cells": [
    {
      "cell_type": "markdown",
      "metadata": {
        "id": "view-in-github",
        "colab_type": "text"
      },
      "source": [
        "<a href=\"https://colab.research.google.com/github/Junseoo/class2022Spring/blob/main/20220328.ipynb\" target=\"_parent\"><img src=\"https://colab.research.google.com/assets/colab-badge.svg\" alt=\"Open In Colab\"/></a>"
      ]
    },
    {
      "cell_type": "markdown",
      "source": [
        " 보행자 무단횡단사고 다발지역정보 조회"
      ],
      "metadata": {
        "id": "4CDwll9AmaBu"
      }
    },
    {
      "cell_type": "code",
      "execution_count": null,
      "metadata": {
        "id": "8eZHGJhmqd9a"
      },
      "outputs": [],
      "source": [
        "!pip install gradio\n",
        "import gradio as gr\n",
        "import requests\n",
        "import pandas as pd"
      ]
    },
    {
      "cell_type": "code",
      "source": [
        "URL = ('http://apis.data.go.kr/B552061/jaywalking/getRestJaywalking'\n",
        "       '?ServiceKey=7J%2B62liMyIJjNA4nuO3QvMObUeQGKHMIk867r9R5fesD91XEjC%2BRl%2BKTIVE7sLxvU6qqWnb3e6n97QomKL%2BFPA%3D%3D'\n",
        "       '&searchYearCd=2017'\n",
        "       '&siDo=11'\n",
        "       '&guGun=680'\n",
        "       '&type=json'\n",
        "       '&numOfRows=10'\n",
        "       '&pageNo=1')\n",
        "response = requests.get(URL)\n",
        "response"
      ],
      "metadata": {
        "colab": {
          "base_uri": "https://localhost:8080/"
        },
        "id": "Kw9AQlAZR0YS",
        "outputId": "79aef895-e73c-4bdb-d43a-9127c580366b"
      },
      "execution_count": 2,
      "outputs": [
        {
          "output_type": "execute_result",
          "data": {
            "text/plain": [
              "<Response [200]>"
            ]
          },
          "metadata": {},
          "execution_count": 2
        }
      ]
    },
    {
      "cell_type": "code",
      "source": [
        "response.text"
      ],
      "metadata": {
        "id": "tdkEwTZlUqXR"
      },
      "execution_count": null,
      "outputs": []
    },
    {
      "cell_type": "markdown",
      "metadata": {
        "id": "faIENRyFfnY1"
      },
      "source": [
        "#### http://jsonviewer.stack.hu/ (copy json here to view json)"
      ]
    },
    {
      "cell_type": "code",
      "execution_count": null,
      "metadata": {
        "id": "JcLKwg0foR9p"
      },
      "outputs": [],
      "source": [
        "r = response.json()\n",
        "r"
      ]
    },
    {
      "cell_type": "code",
      "source": [
        "items = r['items']['item']"
      ],
      "metadata": {
        "id": "MA6xFmtkstjZ"
      },
      "execution_count": 5,
      "outputs": []
    },
    {
      "cell_type": "code",
      "execution_count": 25,
      "metadata": {
        "id": "W8lA0-IzE55W"
      },
      "outputs": [],
      "source": [
        "items = r['items']['item']\n",
        "\n",
        "sido_sgg_nmt = [item['sido_sgg_nm'] for item in items]\n",
        "spot_nm = [item['spot_nm'] for item in items]\n",
        "occrrnc_cnt = [item['occrrnc_cnt'] for item in items]\n",
        "caslt_cnt = [item['caslt_cnt'] for item in items]\n",
        "dth_dnv_cnt = [item['dth_dnv_cnt'] for item in items]\n",
        "\n",
        "sido_sgg_nmt = pd.Series(sido_sgg_nmt)\n",
        "spot_nm = pd.Series(spot_nm)\n",
        "occrrnc_cnt = pd.Series(occrrnc_cnt) \n",
        "caslt_cnt = pd.Series(caslt_cnt)   \n",
        "dth_dnv_cnt = pd.Series(dth_dnv_cnt)\n",
        "\n",
        "df = pd.DataFrame({'지역명': sido_sgg_nmt, '지점명': spot_nm, '발생건수': occrrnc_cnt, '사상자수': caslt_cnt, '사망자수': dth_dnv_cnt})"
      ]
    },
    {
      "cell_type": "code",
      "source": [
        "df"
      ],
      "metadata": {
        "colab": {
          "base_uri": "https://localhost:8080/",
          "height": 206
        },
        "id": "iF37cMZUvfmw",
        "outputId": "6ec1f519-3f0d-4c09-f51e-3db00edf24c1"
      },
      "execution_count": 26,
      "outputs": [
        {
          "output_type": "execute_result",
          "data": {
            "text/plain": [
              "        지역명                           지점명  발생건수  사상자수  사망자수\n",
              "0  서울 서울강남1        서울특별시 강남구 논현동(신논현역 부근)    10    11     1\n",
              "1  서울 서울강남2    서울특별시 강남구 역삼동(현대해상강남타워 부근)     7     9     1\n",
              "2  서울 서울강남3       서울특별시 강남구 논현동(사진박물관 부근)     5     6     0\n",
              "3  서울 서울수서1  서울특별시 강남구 대치동(은마아파트입구교차로 부근)     4     4     0\n",
              "4  서울 서울수서2      서울특별시 강남구 대치동(한나라한의원 부근)     4     4     0"
            ],
            "text/html": [
              "\n",
              "  <div id=\"df-b70d3563-452b-4da3-9010-24316034e3b8\">\n",
              "    <div class=\"colab-df-container\">\n",
              "      <div>\n",
              "<style scoped>\n",
              "    .dataframe tbody tr th:only-of-type {\n",
              "        vertical-align: middle;\n",
              "    }\n",
              "\n",
              "    .dataframe tbody tr th {\n",
              "        vertical-align: top;\n",
              "    }\n",
              "\n",
              "    .dataframe thead th {\n",
              "        text-align: right;\n",
              "    }\n",
              "</style>\n",
              "<table border=\"1\" class=\"dataframe\">\n",
              "  <thead>\n",
              "    <tr style=\"text-align: right;\">\n",
              "      <th></th>\n",
              "      <th>지역명</th>\n",
              "      <th>지점명</th>\n",
              "      <th>발생건수</th>\n",
              "      <th>사상자수</th>\n",
              "      <th>사망자수</th>\n",
              "    </tr>\n",
              "  </thead>\n",
              "  <tbody>\n",
              "    <tr>\n",
              "      <th>0</th>\n",
              "      <td>서울 서울강남1</td>\n",
              "      <td>서울특별시 강남구 논현동(신논현역 부근)</td>\n",
              "      <td>10</td>\n",
              "      <td>11</td>\n",
              "      <td>1</td>\n",
              "    </tr>\n",
              "    <tr>\n",
              "      <th>1</th>\n",
              "      <td>서울 서울강남2</td>\n",
              "      <td>서울특별시 강남구 역삼동(현대해상강남타워 부근)</td>\n",
              "      <td>7</td>\n",
              "      <td>9</td>\n",
              "      <td>1</td>\n",
              "    </tr>\n",
              "    <tr>\n",
              "      <th>2</th>\n",
              "      <td>서울 서울강남3</td>\n",
              "      <td>서울특별시 강남구 논현동(사진박물관 부근)</td>\n",
              "      <td>5</td>\n",
              "      <td>6</td>\n",
              "      <td>0</td>\n",
              "    </tr>\n",
              "    <tr>\n",
              "      <th>3</th>\n",
              "      <td>서울 서울수서1</td>\n",
              "      <td>서울특별시 강남구 대치동(은마아파트입구교차로 부근)</td>\n",
              "      <td>4</td>\n",
              "      <td>4</td>\n",
              "      <td>0</td>\n",
              "    </tr>\n",
              "    <tr>\n",
              "      <th>4</th>\n",
              "      <td>서울 서울수서2</td>\n",
              "      <td>서울특별시 강남구 대치동(한나라한의원 부근)</td>\n",
              "      <td>4</td>\n",
              "      <td>4</td>\n",
              "      <td>0</td>\n",
              "    </tr>\n",
              "  </tbody>\n",
              "</table>\n",
              "</div>\n",
              "      <button class=\"colab-df-convert\" onclick=\"convertToInteractive('df-b70d3563-452b-4da3-9010-24316034e3b8')\"\n",
              "              title=\"Convert this dataframe to an interactive table.\"\n",
              "              style=\"display:none;\">\n",
              "        \n",
              "  <svg xmlns=\"http://www.w3.org/2000/svg\" height=\"24px\"viewBox=\"0 0 24 24\"\n",
              "       width=\"24px\">\n",
              "    <path d=\"M0 0h24v24H0V0z\" fill=\"none\"/>\n",
              "    <path d=\"M18.56 5.44l.94 2.06.94-2.06 2.06-.94-2.06-.94-.94-2.06-.94 2.06-2.06.94zm-11 1L8.5 8.5l.94-2.06 2.06-.94-2.06-.94L8.5 2.5l-.94 2.06-2.06.94zm10 10l.94 2.06.94-2.06 2.06-.94-2.06-.94-.94-2.06-.94 2.06-2.06.94z\"/><path d=\"M17.41 7.96l-1.37-1.37c-.4-.4-.92-.59-1.43-.59-.52 0-1.04.2-1.43.59L10.3 9.45l-7.72 7.72c-.78.78-.78 2.05 0 2.83L4 21.41c.39.39.9.59 1.41.59.51 0 1.02-.2 1.41-.59l7.78-7.78 2.81-2.81c.8-.78.8-2.07 0-2.86zM5.41 20L4 18.59l7.72-7.72 1.47 1.35L5.41 20z\"/>\n",
              "  </svg>\n",
              "      </button>\n",
              "      \n",
              "  <style>\n",
              "    .colab-df-container {\n",
              "      display:flex;\n",
              "      flex-wrap:wrap;\n",
              "      gap: 12px;\n",
              "    }\n",
              "\n",
              "    .colab-df-convert {\n",
              "      background-color: #E8F0FE;\n",
              "      border: none;\n",
              "      border-radius: 50%;\n",
              "      cursor: pointer;\n",
              "      display: none;\n",
              "      fill: #1967D2;\n",
              "      height: 32px;\n",
              "      padding: 0 0 0 0;\n",
              "      width: 32px;\n",
              "    }\n",
              "\n",
              "    .colab-df-convert:hover {\n",
              "      background-color: #E2EBFA;\n",
              "      box-shadow: 0px 1px 2px rgba(60, 64, 67, 0.3), 0px 1px 3px 1px rgba(60, 64, 67, 0.15);\n",
              "      fill: #174EA6;\n",
              "    }\n",
              "\n",
              "    [theme=dark] .colab-df-convert {\n",
              "      background-color: #3B4455;\n",
              "      fill: #D2E3FC;\n",
              "    }\n",
              "\n",
              "    [theme=dark] .colab-df-convert:hover {\n",
              "      background-color: #434B5C;\n",
              "      box-shadow: 0px 1px 3px 1px rgba(0, 0, 0, 0.15);\n",
              "      filter: drop-shadow(0px 1px 2px rgba(0, 0, 0, 0.3));\n",
              "      fill: #FFFFFF;\n",
              "    }\n",
              "  </style>\n",
              "\n",
              "      <script>\n",
              "        const buttonEl =\n",
              "          document.querySelector('#df-b70d3563-452b-4da3-9010-24316034e3b8 button.colab-df-convert');\n",
              "        buttonEl.style.display =\n",
              "          google.colab.kernel.accessAllowed ? 'block' : 'none';\n",
              "\n",
              "        async function convertToInteractive(key) {\n",
              "          const element = document.querySelector('#df-b70d3563-452b-4da3-9010-24316034e3b8');\n",
              "          const dataTable =\n",
              "            await google.colab.kernel.invokeFunction('convertToInteractive',\n",
              "                                                     [key], {});\n",
              "          if (!dataTable) return;\n",
              "\n",
              "          const docLinkHtml = 'Like what you see? Visit the ' +\n",
              "            '<a target=\"_blank\" href=https://colab.research.google.com/notebooks/data_table.ipynb>data table notebook</a>'\n",
              "            + ' to learn more about interactive tables.';\n",
              "          element.innerHTML = '';\n",
              "          dataTable['output_type'] = 'display_data';\n",
              "          await google.colab.output.renderOutput(dataTable, element);\n",
              "          const docLink = document.createElement('div');\n",
              "          docLink.innerHTML = docLinkHtml;\n",
              "          element.appendChild(docLink);\n",
              "        }\n",
              "      </script>\n",
              "    </div>\n",
              "  </div>\n",
              "  "
            ]
          },
          "metadata": {},
          "execution_count": 26
        }
      ]
    },
    {
      "cell_type": "code",
      "source": [
        "def test(guGun):\n",
        "  URL = ('http://apis.data.go.kr/B552061/jaywalking/getRestJaywalking'\n",
        "         '?ServiceKey=7J%2B62liMyIJjNA4nuO3QvMObUeQGKHMIk867r9R5fesD91XEjC%2BRl%2BKTIVE7sLxvU6qqWnb3e6n97QomKL%2BFPA%3D%3D'\n",
        "         '&searchYearCd=2017'\n",
        "         '&siDo=11'\n",
        "         '&guGun='+guGun+\n",
        "         '&type=json'\n",
        "         '&numOfRows=10'\n",
        "         '&pageNo=1')\n",
        "  \n",
        "  response = requests.get(URL)\n",
        "  r = response.json()\n",
        "  items = r['items']['item']\n",
        "\n",
        "  sido_sgg_nmt = [item['sido_sgg_nm'] for item in items]\n",
        "  spot_nm = [item['spot_nm'] for item in items]\n",
        "  occrrnc_cnt = [item['occrrnc_cnt'] for item in items]\n",
        "  caslt_cnt = [item['caslt_cnt'] for item in items]\n",
        "  dth_dnv_cnt = [item['dth_dnv_cnt'] for item in items]\n",
        "\n",
        "  sido_sgg_nmt = pd.Series(sido_sgg_nmt)\n",
        "  spot_nm = pd.Series(spot_nm)\n",
        "  occrrnc_cnt = pd.Series(occrrnc_cnt) \n",
        "  caslt_cnt = pd.Series(caslt_cnt)   \n",
        "  dth_dnv_cnt = pd.Series(dth_dnv_cnt)\n",
        "  \n",
        "\n",
        "  df = pd.DataFrame({'지역명': sido_sgg_nmt, '지점명': spot_nm, '발생건수': occrrnc_cnt, '사상자수': caslt_cnt, '사망자수': dth_dnv_cnt})\n",
        "  return df"
      ],
      "metadata": {
        "id": "mhfZvPFkw72R"
      },
      "execution_count": 27,
      "outputs": []
    },
    {
      "cell_type": "code",
      "source": [
        "iface = gr.Interface(test, gr.inputs.Dropdown(['680','740','305','500','620','215','530','545','350','320','230','590','440','410','650','200','290','710','470','560','170','380','110','140','260' ]), outputs=['dataframe'])\n",
        "iface.launch(debug=True)"
      ],
      "metadata": {
        "colab": {
          "base_uri": "https://localhost:8080/",
          "height": 669
        },
        "id": "GHRGRt0mw9RR",
        "outputId": "9c9970ad-1f11-4aba-ce59-ad1e41fde2ba"
      },
      "execution_count": 29,
      "outputs": [
        {
          "output_type": "stream",
          "name": "stdout",
          "text": [
            "Colab notebook detected. This cell will run indefinitely so that you can see errors and logs. To turn off, set debug=False in launch().\n",
            "Running on public URL: https://56241.gradio.app\n",
            "\n",
            "This share link expires in 72 hours. For free permanent hosting, check out Spaces (https://huggingface.co/spaces)\n"
          ]
        },
        {
          "output_type": "display_data",
          "data": {
            "text/plain": [
              "<IPython.lib.display.IFrame at 0x7fec4eb99990>"
            ],
            "text/html": [
              "\n",
              "        <iframe\n",
              "            width=\"900\"\n",
              "            height=\"500\"\n",
              "            src=\"https://56241.gradio.app\"\n",
              "            frameborder=\"0\"\n",
              "            allowfullscreen\n",
              "        ></iframe>\n",
              "        "
            ]
          },
          "metadata": {}
        },
        {
          "output_type": "stream",
          "name": "stdout",
          "text": [
            "Keyboard interruption in main thread... closing server.\n"
          ]
        },
        {
          "output_type": "execute_result",
          "data": {
            "text/plain": [
              "(<fastapi.applications.FastAPI at 0x7fec57ffe050>,\n",
              " 'http://127.0.0.1:7860/',\n",
              " 'https://56241.gradio.app')"
            ]
          },
          "metadata": {},
          "execution_count": 29
        }
      ]
    }
  ],
  "metadata": {
    "colab": {
      "name": "20220328.ipynb",
      "provenance": [],
      "include_colab_link": true
    },
    "kernelspec": {
      "display_name": "Python 3",
      "name": "python3"
    },
    "language_info": {
      "name": "python"
    }
  },
  "nbformat": 4,
  "nbformat_minor": 0
}
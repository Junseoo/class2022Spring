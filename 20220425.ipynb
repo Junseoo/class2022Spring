{
  "nbformat": 4,
  "nbformat_minor": 0,
  "metadata": {
    "kernelspec": {
      "display_name": "Python 3",
      "language": "python",
      "name": "python3"
    },
    "language_info": {
      "codemirror_mode": {
        "name": "ipython",
        "version": 3
      },
      "file_extension": ".py",
      "mimetype": "text/x-python",
      "name": "python",
      "nbconvert_exporter": "python",
      "pygments_lexer": "ipython3",
      "version": "3.7.1"
    },
    "colab": {
      "name": "20220425",
      "provenance": [],
      "include_colab_link": true
    }
  },
  "cells": [
    {
      "cell_type": "markdown",
      "metadata": {
        "id": "view-in-github",
        "colab_type": "text"
      },
      "source": [
        "<a href=\"https://colab.research.google.com/github/Junseoo/class2022Spring/blob/main/20220425.ipynb\" target=\"_parent\"><img src=\"https://colab.research.google.com/assets/colab-badge.svg\" alt=\"Open In Colab\"/></a>"
      ]
    },
    {
      "cell_type": "markdown",
      "source": [
        "# Auto Correlation\n",
        "\n",
        "\n",
        "*   measuring pitch / F0\n",
        "*   for finding repeating patterns / for identifying the missing fundamental frequency\n",
        "*   often used in signal processing for analyzing functions or series of values\n",
        "\n"
      ],
      "metadata": {
        "id": "j-cxWLfPAmh_"
      }
    },
    {
      "cell_type": "markdown",
      "source": [
        "# RMS: Root Mean Square\n",
        "\n",
        "*   measuring intensity\n",
        "*   square root of the mean square\n",
        "*   continuously varying function in terms of an integral of the squares of the instantaneous values during a cycle\n",
        "\n"
      ],
      "metadata": {
        "id": "7vzSHep_Auk0"
      }
    }
  ]
}